{
 "cells": [
  {
   "cell_type": "code",
   "execution_count": 63,
   "id": "680af629",
   "metadata": {
    "ExecuteTime": {
     "end_time": "2022-10-31T13:42:37.597420Z",
     "start_time": "2022-10-31T13:42:37.594091Z"
    }
   },
   "outputs": [],
   "source": [
    "from sklearn.model_selection import train_test_split\n",
    "from matplotlib import pyplot as plt\n",
    "from math import sqrt\n",
    "import pandas as pd\n",
    "import numpy as np \n",
    "import seaborn as sns\n",
    "\n",
    "\n",
    "from boruta          import BorutaPy\n",
    "from sklearn.metrics import mean_absolute_error, mean_squared_error\n",
    "from sklearn.ensemble import RandomForestRegressor\n",
    "from sklearn.linear_model import LinearRegression, Lasso\n",
    "from sklearn.preprocessing import RobustScaler, MinMaxScaler, LabelEncoder\n",
    "from sklearn.model_selection import cross_val_predict, cross_val_score\n",
    "from sklearn import metrics\n",
    "\n",
    "from IPython.core.display import HTML"
   ]
  },
  {
   "cell_type": "code",
   "execution_count": 22,
   "id": "a6d3d919",
   "metadata": {
    "ExecuteTime": {
     "end_time": "2022-10-31T12:46:31.591037Z",
     "start_time": "2022-10-31T12:46:31.568754Z"
    }
   },
   "outputs": [],
   "source": [
    "df = pd.read_csv('dataset.csv')"
   ]
  },
  {
   "cell_type": "code",
   "execution_count": 23,
   "id": "2a397727",
   "metadata": {
    "ExecuteTime": {
     "end_time": "2022-10-31T12:46:31.854841Z",
     "start_time": "2022-10-31T12:46:31.833901Z"
    }
   },
   "outputs": [
    {
     "data": {
      "text/html": [
       "<div>\n",
       "<style scoped>\n",
       "    .dataframe tbody tr th:only-of-type {\n",
       "        vertical-align: middle;\n",
       "    }\n",
       "\n",
       "    .dataframe tbody tr th {\n",
       "        vertical-align: top;\n",
       "    }\n",
       "\n",
       "    .dataframe thead th {\n",
       "        text-align: right;\n",
       "    }\n",
       "</style>\n",
       "<table border=\"1\" class=\"dataframe\">\n",
       "  <thead>\n",
       "    <tr style=\"text-align: right;\">\n",
       "      <th></th>\n",
       "      <th>SystemCodeNumber</th>\n",
       "      <th>Capacity</th>\n",
       "      <th>Occupancy</th>\n",
       "      <th>LastUpdated</th>\n",
       "    </tr>\n",
       "  </thead>\n",
       "  <tbody>\n",
       "    <tr>\n",
       "      <th>0</th>\n",
       "      <td>BHMBCCMKT01</td>\n",
       "      <td>577</td>\n",
       "      <td>61</td>\n",
       "      <td>2016-10-04 07:59:42</td>\n",
       "    </tr>\n",
       "    <tr>\n",
       "      <th>1</th>\n",
       "      <td>BHMBCCMKT01</td>\n",
       "      <td>577</td>\n",
       "      <td>64</td>\n",
       "      <td>2016-10-04 08:25:42</td>\n",
       "    </tr>\n",
       "    <tr>\n",
       "      <th>2</th>\n",
       "      <td>BHMBCCMKT01</td>\n",
       "      <td>577</td>\n",
       "      <td>80</td>\n",
       "      <td>2016-10-04 08:59:42</td>\n",
       "    </tr>\n",
       "    <tr>\n",
       "      <th>3</th>\n",
       "      <td>BHMBCCMKT01</td>\n",
       "      <td>577</td>\n",
       "      <td>107</td>\n",
       "      <td>2016-10-04 09:32:46</td>\n",
       "    </tr>\n",
       "    <tr>\n",
       "      <th>4</th>\n",
       "      <td>BHMBCCMKT01</td>\n",
       "      <td>577</td>\n",
       "      <td>150</td>\n",
       "      <td>2016-10-04 09:59:48</td>\n",
       "    </tr>\n",
       "    <tr>\n",
       "      <th>5</th>\n",
       "      <td>BHMBCCMKT01</td>\n",
       "      <td>577</td>\n",
       "      <td>177</td>\n",
       "      <td>2016-10-04 10:26:49</td>\n",
       "    </tr>\n",
       "    <tr>\n",
       "      <th>6</th>\n",
       "      <td>BHMBCCMKT01</td>\n",
       "      <td>577</td>\n",
       "      <td>219</td>\n",
       "      <td>2016-10-04 10:59:48</td>\n",
       "    </tr>\n",
       "    <tr>\n",
       "      <th>7</th>\n",
       "      <td>BHMBCCMKT01</td>\n",
       "      <td>577</td>\n",
       "      <td>247</td>\n",
       "      <td>2016-10-04 11:25:47</td>\n",
       "    </tr>\n",
       "    <tr>\n",
       "      <th>8</th>\n",
       "      <td>BHMBCCMKT01</td>\n",
       "      <td>577</td>\n",
       "      <td>259</td>\n",
       "      <td>2016-10-04 11:59:44</td>\n",
       "    </tr>\n",
       "    <tr>\n",
       "      <th>9</th>\n",
       "      <td>BHMBCCMKT01</td>\n",
       "      <td>577</td>\n",
       "      <td>266</td>\n",
       "      <td>2016-10-04 12:29:45</td>\n",
       "    </tr>\n",
       "  </tbody>\n",
       "</table>\n",
       "</div>"
      ],
      "text/plain": [
       "  SystemCodeNumber  Capacity  Occupancy          LastUpdated\n",
       "0      BHMBCCMKT01       577         61  2016-10-04 07:59:42\n",
       "1      BHMBCCMKT01       577         64  2016-10-04 08:25:42\n",
       "2      BHMBCCMKT01       577         80  2016-10-04 08:59:42\n",
       "3      BHMBCCMKT01       577        107  2016-10-04 09:32:46\n",
       "4      BHMBCCMKT01       577        150  2016-10-04 09:59:48\n",
       "5      BHMBCCMKT01       577        177  2016-10-04 10:26:49\n",
       "6      BHMBCCMKT01       577        219  2016-10-04 10:59:48\n",
       "7      BHMBCCMKT01       577        247  2016-10-04 11:25:47\n",
       "8      BHMBCCMKT01       577        259  2016-10-04 11:59:44\n",
       "9      BHMBCCMKT01       577        266  2016-10-04 12:29:45"
      ]
     },
     "execution_count": 23,
     "metadata": {},
     "output_type": "execute_result"
    }
   ],
   "source": [
    "df.head(5)"
   ]
  },
  {
   "cell_type": "code",
   "execution_count": 24,
   "id": "d71a74d2",
   "metadata": {
    "ExecuteTime": {
     "end_time": "2022-10-31T12:46:32.805972Z",
     "start_time": "2022-10-31T12:46:32.801716Z"
    }
   },
   "outputs": [
    {
     "data": {
      "text/plain": [
       "SystemCodeNumber    object\n",
       "Capacity             int64\n",
       "Occupancy            int64\n",
       "LastUpdated         object\n",
       "dtype: object"
      ]
     },
     "execution_count": 24,
     "metadata": {},
     "output_type": "execute_result"
    }
   ],
   "source": [
    "df.dtypes"
   ]
  },
  {
   "cell_type": "code",
   "execution_count": 75,
   "id": "769680ff",
   "metadata": {
    "ExecuteTime": {
     "end_time": "2022-10-31T17:18:07.565018Z",
     "start_time": "2022-10-31T17:18:07.560526Z"
    }
   },
   "outputs": [
    {
     "data": {
      "text/plain": [
       "array(['BHMBCCMKT01', 'BHMBCCPST01', 'BHMBCCSNH01', 'BHMBCCTHL01',\n",
       "       'BHMBRCBRG01', 'BHMBRCBRG02', 'BHMBRCBRG03', 'BHMBRTARC01',\n",
       "       'BHMEURBRD01', 'BHMEURBRD02', 'BHMMBMMBX01', 'BHMNCPHST01',\n",
       "       'BHMNCPLDH01', 'BHMNCPNHS01', 'BHMNCPNST01', 'BHMNCPPLS01',\n",
       "       'BHMNCPRAN01', 'Broad Street', 'Bull Ring', 'NIA Car Parks',\n",
       "       'NIA North', 'NIA South', 'Others-CCCPS105a', 'Others-CCCPS119a',\n",
       "       'Others-CCCPS133', 'Others-CCCPS135a', 'Others-CCCPS202',\n",
       "       'Others-CCCPS8', 'Others-CCCPS98', 'Shopping'], dtype=object)"
      ]
     },
     "execution_count": 75,
     "metadata": {},
     "output_type": "execute_result"
    }
   ],
   "source": [
    "df['SystemCodeNumber'].unique()"
   ]
  },
  {
   "cell_type": "code",
   "execution_count": 25,
   "id": "d6a71687",
   "metadata": {
    "ExecuteTime": {
     "end_time": "2022-10-31T12:46:33.497356Z",
     "start_time": "2022-10-31T12:46:33.442425Z"
    }
   },
   "outputs": [
    {
     "name": "stderr",
     "output_type": "stream",
     "text": [
      "/tmp/ipykernel_5113/4249010788.py:9: FutureWarning: Series.dt.weekofyear and Series.dt.week have been deprecated. Please use Series.dt.isocalendar().week instead.\n",
      "  df['week_of_year'] = df['date'].dt.weekofyear\n"
     ]
    }
   ],
   "source": [
    "df['date'] = pd.to_datetime(df['LastUpdated'])\n",
    "df['day'] = df['date'].dt.day\n",
    "df['month'] = df['date'].dt.month\n",
    "df['year']= df['date'].dt.year\n",
    "df['hour'] = df['date'].dt.hour\n",
    "df['minute'] = df['date'].dt.minute\n",
    "df['day_of_week'] = df['date'].dt.dayofweek\n",
    "df['week_of_year'] = df['date'].dt.weekofyear\n",
    "df['code_number'] = df['SystemCodeNumber'].apply(lambda x: 1 if x == 'BHMBCCMKT01' else 2 if x=='BHMBCCPST01' else 3 if x=='BHMBCCSNH01'\n",
    "                                         else 4 if x=='BHMBCCTHL01' else 5 if x=='BHMBRCBRG01' else 6 if x=='BHMBRCBRG02' else 7 if\n",
    "                                         x=='BHMBRCBRG03' else 8 if x=='BHMBRTARC01' else 9 if x=='BHMEURBRD01' \n",
    "                                         else 10 if x=='BHMEURBRD02' else 11 if x=='BHMMBMMBX01' else 12 if x=='BHMNCPHST01'\n",
    "                                         else 13 if x=='BHMNCPLDH01' else 14 if x=='BHMNCPNHS01' else 15 if x=='BHMNCPNST01'\n",
    "                                         else 16 if x=='BHMNCPPLS01' else 17 if x=='BHMNCPRAN01' else 18 if x=='Broad Street'\n",
    "                                         else 19 if x=='Bull Ring'   else 20 if x=='NIA Car Parks' else 21 if x== 'NIA North'\n",
    "                                         else 22 if x=='NIA South'   else 23 if x=='Others-CCCPS105a' else 24 if x=='Others-CCCPS119a'\n",
    "                                         else 25 if x=='Others-CCCPS133' else 26 if x=='Others-CCCPS135a' else 27 if x=='Others-CCCPS202'\n",
    "                                         else 28 if x=='Others-CCCPS8' else 29 if x=='Others-CCCPS98' else 30)\n",
    "df['occupancy_rate'] = df['Occupancy']/df['Capacity']"
   ]
  },
  {
   "cell_type": "code",
   "execution_count": 26,
   "id": "c2b8ca1a",
   "metadata": {
    "ExecuteTime": {
     "end_time": "2022-10-31T12:46:34.140676Z",
     "start_time": "2022-10-31T12:46:34.135146Z"
    }
   },
   "outputs": [],
   "source": [
    "df1 = df.drop(['SystemCodeNumber' , 'Capacity' , 'Occupancy' , 'LastUpdated' , 'date'],axis=1)"
   ]
  },
  {
   "cell_type": "code",
   "execution_count": 27,
   "id": "eab4f6cc",
   "metadata": {
    "ExecuteTime": {
     "end_time": "2022-10-31T12:46:35.185824Z",
     "start_time": "2022-10-31T12:46:35.179309Z"
    }
   },
   "outputs": [
    {
     "data": {
      "text/html": [
       "<div>\n",
       "<style scoped>\n",
       "    .dataframe tbody tr th:only-of-type {\n",
       "        vertical-align: middle;\n",
       "    }\n",
       "\n",
       "    .dataframe tbody tr th {\n",
       "        vertical-align: top;\n",
       "    }\n",
       "\n",
       "    .dataframe thead th {\n",
       "        text-align: right;\n",
       "    }\n",
       "</style>\n",
       "<table border=\"1\" class=\"dataframe\">\n",
       "  <thead>\n",
       "    <tr style=\"text-align: right;\">\n",
       "      <th></th>\n",
       "      <th>day</th>\n",
       "      <th>month</th>\n",
       "      <th>year</th>\n",
       "      <th>hour</th>\n",
       "      <th>minute</th>\n",
       "      <th>day_of_week</th>\n",
       "      <th>week_of_year</th>\n",
       "      <th>code_number</th>\n",
       "      <th>occupancy_rate</th>\n",
       "    </tr>\n",
       "  </thead>\n",
       "  <tbody>\n",
       "    <tr>\n",
       "      <th>0</th>\n",
       "      <td>4</td>\n",
       "      <td>10</td>\n",
       "      <td>2016</td>\n",
       "      <td>7</td>\n",
       "      <td>59</td>\n",
       "      <td>1</td>\n",
       "      <td>40</td>\n",
       "      <td>1</td>\n",
       "      <td>0.105719</td>\n",
       "    </tr>\n",
       "    <tr>\n",
       "      <th>1</th>\n",
       "      <td>4</td>\n",
       "      <td>10</td>\n",
       "      <td>2016</td>\n",
       "      <td>8</td>\n",
       "      <td>25</td>\n",
       "      <td>1</td>\n",
       "      <td>40</td>\n",
       "      <td>1</td>\n",
       "      <td>0.110919</td>\n",
       "    </tr>\n",
       "    <tr>\n",
       "      <th>2</th>\n",
       "      <td>4</td>\n",
       "      <td>10</td>\n",
       "      <td>2016</td>\n",
       "      <td>8</td>\n",
       "      <td>59</td>\n",
       "      <td>1</td>\n",
       "      <td>40</td>\n",
       "      <td>1</td>\n",
       "      <td>0.138648</td>\n",
       "    </tr>\n",
       "    <tr>\n",
       "      <th>3</th>\n",
       "      <td>4</td>\n",
       "      <td>10</td>\n",
       "      <td>2016</td>\n",
       "      <td>9</td>\n",
       "      <td>32</td>\n",
       "      <td>1</td>\n",
       "      <td>40</td>\n",
       "      <td>1</td>\n",
       "      <td>0.185442</td>\n",
       "    </tr>\n",
       "    <tr>\n",
       "      <th>4</th>\n",
       "      <td>4</td>\n",
       "      <td>10</td>\n",
       "      <td>2016</td>\n",
       "      <td>9</td>\n",
       "      <td>59</td>\n",
       "      <td>1</td>\n",
       "      <td>40</td>\n",
       "      <td>1</td>\n",
       "      <td>0.259965</td>\n",
       "    </tr>\n",
       "  </tbody>\n",
       "</table>\n",
       "</div>"
      ],
      "text/plain": [
       "   day  month  year  hour  minute  day_of_week  week_of_year  code_number  \\\n",
       "0    4     10  2016     7      59            1            40            1   \n",
       "1    4     10  2016     8      25            1            40            1   \n",
       "2    4     10  2016     8      59            1            40            1   \n",
       "3    4     10  2016     9      32            1            40            1   \n",
       "4    4     10  2016     9      59            1            40            1   \n",
       "\n",
       "   occupancy_rate  \n",
       "0        0.105719  \n",
       "1        0.110919  \n",
       "2        0.138648  \n",
       "3        0.185442  \n",
       "4        0.259965  "
      ]
     },
     "execution_count": 27,
     "metadata": {},
     "output_type": "execute_result"
    }
   ],
   "source": [
    "df1.head()"
   ]
  },
  {
   "cell_type": "code",
   "execution_count": 28,
   "id": "0a38388f",
   "metadata": {
    "ExecuteTime": {
     "end_time": "2022-10-31T12:46:57.082086Z",
     "start_time": "2022-10-31T12:46:56.775801Z"
    }
   },
   "outputs": [
    {
     "name": "stderr",
     "output_type": "stream",
     "text": [
      "/home/erickfog/anaconda3/lib/python3.9/site-packages/seaborn/distributions.py:2619: FutureWarning: `distplot` is a deprecated function and will be removed in a future version. Please adapt your code to use either `displot` (a figure-level function with similar flexibility) or `histplot` (an axes-level function for histograms).\n",
      "  warnings.warn(msg, FutureWarning)\n"
     ]
    },
    {
     "data": {
      "image/png": "[encoded data removed]",
      "text/plain": [
       "<Figure size 432x288 with 1 Axes>"
      ]
     },
     "metadata": {
      "needs_background": "light"
     },
     "output_type": "display_data"
    }
   ],
   "source": [
    "sns.distplot(df1['occupancy_rate']);"
   ]
  },
  {
   "cell_type": "code",
   "execution_count": 29,
   "id": "71f9e898",
   "metadata": {
    "ExecuteTime": {
     "end_time": "2022-10-31T12:47:03.158802Z",
     "start_time": "2022-10-31T12:47:02.974490Z"
    }
   },
   "outputs": [
    {
     "name": "stderr",
     "output_type": "stream",
     "text": [
      "/home/erickfog/anaconda3/lib/python3.9/site-packages/seaborn/_decorators.py:36: FutureWarning: Pass the following variable as a keyword arg: x. From version 0.12, the only valid positional argument will be `data`, and passing other arguments without an explicit keyword will result in an error or misinterpretation.\n",
      "  warnings.warn(\n"
     ]
    },
    {
     "data": {
      "image/png": "[encoded data removed]",
      "text/plain": [
       "<Figure size 432x288 with 1 Axes>"
      ]
     },
     "metadata": {
      "needs_background": "light"
     },
     "output_type": "display_data"
    }
   ],
   "source": [
    "sns.countplot(df1['code_number']);"
   ]
  },
  {
   "cell_type": "code",
   "execution_count": 30,
   "id": "0dac9dcd",
   "metadata": {
    "ExecuteTime": {
     "end_time": "2022-10-31T12:47:14.564921Z",
     "start_time": "2022-10-31T12:47:14.243730Z"
    }
   },
   "outputs": [
    {
     "name": "stderr",
     "output_type": "stream",
     "text": [
      "/home/erickfog/anaconda3/lib/python3.9/site-packages/seaborn/distributions.py:2619: FutureWarning: `distplot` is a deprecated function and will be removed in a future version. Please adapt your code to use either `displot` (a figure-level function with similar flexibility) or `histplot` (an axes-level function for histograms).\n",
      "  warnings.warn(msg, FutureWarning)\n"
     ]
    },
    {
     "data": {
      "image/png": "[encoded data removed]",
      "text/plain": [
       "<Figure size 432x288 with 1 Axes>"
      ]
     },
     "metadata": {
      "needs_background": "light"
     },
     "output_type": "display_data"
    }
   ],
   "source": [
    "sns.distplot(df['Occupancy']);"
   ]
  },
  {
   "cell_type": "code",
   "execution_count": 64,
   "id": "b8ab46fa",
   "metadata": {
    "ExecuteTime": {
     "end_time": "2022-10-31T13:42:38.138863Z",
     "start_time": "2022-10-31T13:42:38.115302Z"
    }
   },
   "outputs": [],
   "source": [
    "seed=50\n",
    "train_set, test_set = train_test_split(df1, test_size=0.3, shuffle=True, random_state=seed)\n",
    "X = train_set.drop(['occupancy_rate'], axis='columns')\n",
    "y = train_set['occupancy_rate']\n",
    "\n",
    "X_test = test_set.drop(['occupancy_rate'] , axis='columns')\n",
    "y_test = test_set['occupancy_rate']"
   ]
  },
  {
   "cell_type": "code",
   "execution_count": 65,
   "id": "936107b8",
   "metadata": {
    "ExecuteTime": {
     "end_time": "2022-10-31T13:42:39.011082Z",
     "start_time": "2022-10-31T13:42:38.738109Z"
    }
   },
   "outputs": [
    {
     "name": "stdout",
     "output_type": "stream",
     "text": [
      "MSE: 0.0349953510787499\n",
      "RMSE: 0.1870704441614172\n",
      "MAE: 0.15016283092569685\n",
      "R2: 0.5245475916442455\n"
     ]
    }
   ],
   "source": [
    "from sklearn.neighbors import KNeighborsRegressor\n",
    "\n",
    "y_pred = cross_val_predict(KNeighborsRegressor(), X, y, cv=5)\n",
    "print('MSE: {}'.format(metrics.mean_squared_error(y, y_pred, squared=True)))\n",
    "print('RMSE: {}' .format(sqrt(metrics.mean_squared_error(y,y_pred,squared=True))))\n",
    "print('MAE: {}' .format(metrics.mean_absolute_error(y,y_pred)))\n",
    "print('R2: {}' .format(metrics.r2_score(y, y_pred)))"
   ]
  },
  {
   "cell_type": "code",
   "execution_count": 66,
   "id": "1d3f6ece",
   "metadata": {
    "ExecuteTime": {
     "end_time": "2022-10-31T13:42:39.296430Z",
     "start_time": "2022-10-31T13:42:39.164645Z"
    }
   },
   "outputs": [
    {
     "data": {
      "text/plain": [
       "<matplotlib.collections.PathCollection at 0x7f2f489f4ca0>"
      ]
     },
     "execution_count": 66,
     "metadata": {},
     "output_type": "execute_result"
    },
    {
     "data": {
      "image/png": "[encoded data removed]",
      "text/plain": [
       "<Figure size 432x288 with 1 Axes>"
      ]
     },
     "metadata": {
      "needs_background": "light"
     },
     "output_type": "display_data"
    }
   ],
   "source": [
    "plt.scatter(y,y_pred)"
   ]
  },
  {
   "cell_type": "code",
   "execution_count": 67,
   "id": "54f2e324",
   "metadata": {
    "ExecuteTime": {
     "end_time": "2022-10-31T13:42:54.208172Z",
     "start_time": "2022-10-31T13:42:39.658446Z"
    }
   },
   "outputs": [
    {
     "name": "stdout",
     "output_type": "stream",
     "text": [
      "MSE: 0.0020757930375215317\n",
      "RMSE: 0.04556087178184293\n",
      "MAE: 0.028423564899893495\n",
      "R2: 0.9717979454837641\n"
     ]
    }
   ],
   "source": [
    "from sklearn.ensemble import RandomForestRegressor\n",
    "y_pred = cross_val_predict(RandomForestRegressor(), X, y, cv=5)\n",
    "print('MSE: {}'.format(metrics.mean_squared_error(y, y_pred, squared=True)))\n",
    "print('RMSE: {}' .format(sqrt(metrics.mean_squared_error(y,y_pred,squared=True))))\n",
    "print('MAE: {}' .format(metrics.mean_absolute_error(y,y_pred)))\n",
    "print('R2: {}' .format(metrics.r2_score(y, y_pred)))"
   ]
  },
  {
   "cell_type": "code",
   "execution_count": 68,
   "id": "94df3c85",
   "metadata": {
    "ExecuteTime": {
     "end_time": "2022-10-31T13:42:54.338364Z",
     "start_time": "2022-10-31T13:42:54.209787Z"
    }
   },
   "outputs": [
    {
     "data": {
      "text/plain": [
       "<matplotlib.collections.PathCollection at 0x7f2f48445a90>"
      ]
     },
     "execution_count": 68,
     "metadata": {},
     "output_type": "execute_result"
    },
    {
     "data": {
      "image/png": "[encoded data removed]",
      "text/plain": [
       "<Figure size 432x288 with 1 Axes>"
      ]
     },
     "metadata": {
      "needs_background": "light"
     },
     "output_type": "display_data"
    }
   ],
   "source": [
    "plt.scatter(y,y_pred)"
   ]
  },
  {
   "cell_type": "code",
   "execution_count": 69,
   "id": "0f83de4b",
   "metadata": {
    "ExecuteTime": {
     "end_time": "2022-10-31T13:43:13.387455Z",
     "start_time": "2022-10-31T13:42:54.340385Z"
    }
   },
   "outputs": [
    {
     "name": "stdout",
     "output_type": "stream",
     "text": [
      "MSE: 0.0015141907844136218\n",
      "RMSE: 0.03891260444140975\n",
      "MAE: 0.026168927799368403\n",
      "R2: 0.9794279630588789\n"
     ]
    }
   ],
   "source": [
    "from sklearn.ensemble import GradientBoostingRegressor\n",
    "clf_gradboost = GradientBoostingRegressor(#loss='squared_error', \n",
    "                                           max_depth=8, \n",
    "                                           learning_rate=0.1, \n",
    "                                           n_estimators=200,\n",
    "                                           max_leaf_nodes=None)\n",
    "y_pred = cross_val_predict(clf_gradboost, X, y, cv=5)\n",
    "print('MSE: {}'.format(metrics.mean_squared_error(y, y_pred, squared=True)))\n",
    "print('RMSE: {}' .format(sqrt(metrics.mean_squared_error(y,y_pred,squared=True))))\n",
    "print('MAE: {}' .format(metrics.mean_absolute_error(y,y_pred)))\n",
    "print('R2: {}' .format(metrics.r2_score(y, y_pred)))"
   ]
  },
  {
   "cell_type": "code",
   "execution_count": 71,
   "id": "92e977d9",
   "metadata": {
    "ExecuteTime": {
     "end_time": "2022-10-31T13:44:40.840629Z",
     "start_time": "2022-10-31T13:44:40.709798Z"
    }
   },
   "outputs": [
    {
     "data": {
      "text/plain": [
       "Text(0, 0.5, 'Predict')"
      ]
     },
     "execution_count": 71,
     "metadata": {},
     "output_type": "execute_result"
    },
    {
     "data": {
      "image/png": "[encoded data removed]",
      "text/plain": [
       "<Figure size 432x288 with 1 Axes>"
      ]
     },
     "metadata": {
      "needs_background": "light"
     },
     "output_type": "display_data"
    }
   ],
   "source": [
    "plt.scatter(y,y_pred)\n",
    "plt.xlabel(\"Measured\")\n",
    "plt.ylabel(\"Predict\")"
   ]
  },
  {
   "cell_type": "code",
   "execution_count": 73,
   "id": "d26717e3",
   "metadata": {
    "ExecuteTime": {
     "end_time": "2022-10-31T17:15:40.811231Z",
     "start_time": "2022-10-31T17:15:40.435523Z"
    }
   },
   "outputs": [
    {
     "data": {
      "text/plain": [
       "Text(0, 0.5, 'Predicted')"
      ]
     },
     "execution_count": 73,
     "metadata": {},
     "output_type": "execute_result"
    },
    {
     "data": {
      "image/png": "[encoded data removed]",
      "text/plain": [
       "<Figure size 432x288 with 1 Axes>"
      ]
     },
     "metadata": {
      "needs_background": "light"
     },
     "output_type": "display_data"
    }
   ],
   "source": [
    "fig, ax = plt.subplots()\n",
    "ax.scatter(y, y_pred, edgecolors=(0, 0, 0))\n",
    "ax.plot([y.min(), y.max()], [y.min(), y.max()], \"k--\", lw=4)\n",
    "ax.set_xlabel(\"Measured\")\n",
    "ax.set_ylabel(\"Predicted\")"
   ]
  },
  {
   "cell_type": "code",
   "execution_count": null,
   "id": "bf6673ed",
   "metadata": {},
   "outputs": [],
   "source": []
  },
  {
   "cell_type": "code",
   "execution_count": null,
   "id": "e421ab83",
   "metadata": {},
   "outputs": [],
   "source": []
  }
 ],
 "metadata": {
  "kernelspec": {
   "display_name": "Python 3 (ipykernel)",
   "language": "python",
   "name": "python3"
  },
  "language_info": {
   "codemirror_mode": {
    "name": "ipython",
    "version": 3
   },
   "file_extension": ".py",
   "mimetype": "text/x-python",
   "name": "python",
   "nbconvert_exporter": "python",
   "pygments_lexer": "ipython3",
   "version": "3.9.13"
  }
 },
 "nbformat": 4,
 "nbformat_minor": 5
}
